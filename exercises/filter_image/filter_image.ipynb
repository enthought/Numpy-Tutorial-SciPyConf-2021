{
 "cells": [
  {
   "cell_type": "markdown",
   "metadata": {},
   "source": [
    "# Filter Image\n",
    "\n",
    "Read in the \"dc_metro\" image and use an averaging filter\n",
    "to \"smooth\" the image.  Use a \"5 point stencil\" where\n",
    "you average the current pixel with its neighboring pixels::\n",
    "\n",
    "              0 0 0 0 0 0 0\n",
    "              0 0 0 x 0 0 0\n",
    "              0 0 x x x 0 0\n",
    "              0 0 0 x 0 0 0\n",
    "              0 0 0 0 0 0 0\n",
    "\n",
    "Plot the image, the smoothed image, and the difference between the\n",
    "two.\n",
    "\n"
   ]
  },
  {
   "cell_type": "code",
   "execution_count": null,
   "metadata": {},
   "outputs": [],
   "source": [
    "%matplotlib inline\n",
    "import numpy as np\n",
    "import matplotlib.pyplot as plt"
   ]
  },
  {
   "cell_type": "markdown",
   "metadata": {},
   "source": [
    "## Plotting utilities (helpful examples)"
   ]
  },
  {
   "cell_type": "code",
   "execution_count": null,
   "metadata": {},
   "outputs": [],
   "source": [
    "# Read an image from a file into an array\n",
    "img = plt.imread('dc_metro.png')"
   ]
  },
  {
   "cell_type": "code",
   "execution_count": null,
   "metadata": {},
   "outputs": [],
   "source": [
    "# Display 2D array as an image (can specify color map as `cmap`)\n",
    "plt.imshow(img, cmap=plt.cm.hot);"
   ]
  },
  {
   "cell_type": "code",
   "execution_count": null,
   "metadata": {},
   "outputs": [],
   "source": [
    "# Use plt.subplot for comparing images\n",
    "plt.figure(figsize=(12, 6))\n",
    "\n",
    "# Plot the original\n",
    "plt.subplot(1,3,1)\n",
    "plt.imshow(img)\n",
    "plt.title('original')\n",
    "\n",
    "# Plot another image\n",
    "plt.subplot(1,3,2)\n",
    "plt.imshow(img, cmap='gray')\n",
    "plt.title('grayscale')\n",
    "\n",
    "# Plot another image\n",
    "plt.subplot(1,3,3)\n",
    "plt.imshow(img, cmap=plt.cm.hot)\n",
    "plt.title('hot');"
   ]
  },
  {
   "cell_type": "markdown",
   "metadata": {},
   "source": [
    "1. Use an averaging filter to \"smooth\" the `'dc_metro.png'` image. Use a \"5 point stencil\" where you average the current pixel with its neighboring pixels::\n",
    "\n",
    "          0 0 0 0 0 0 0\n",
    "          0 0 0 x 0 0 0\n",
    "          0 0 x x x 0 0\n",
    "          0 0 0 x 0 0 0\n",
    "          0 0 0 0 0 0 0\n",
    "Plot the image, the smoothed image, and the difference between the two."
   ]
  },
  {
   "cell_type": "code",
   "execution_count": null,
   "metadata": {},
   "outputs": [],
   "source": [
    "# Your code goes here"
   ]
  },
  {
   "cell_type": "markdown",
   "metadata": {},
   "source": [
    "## Bonus\n",
    "\n",
    "Re-filter the image by passing the result image through the filter again. Do this 50 times and plot the resulting image.\n",
    "\n"
   ]
  },
  {
   "cell_type": "code",
   "execution_count": null,
   "metadata": {},
   "outputs": [],
   "source": [
    "# Your code goes here"
   ]
  }
 ],
 "metadata": {
  "kernelspec": {
   "display_name": "Python 3",
   "language": "python",
   "name": "python3"
  },
  "language_info": {
   "codemirror_mode": {
    "name": "ipython",
    "version": 3
   },
   "file_extension": ".py",
   "mimetype": "text/x-python",
   "name": "python",
   "nbconvert_exporter": "python",
   "pygments_lexer": "ipython3",
   "version": "3.6.13"
  }
 },
 "nbformat": 4,
 "nbformat_minor": 2
}
