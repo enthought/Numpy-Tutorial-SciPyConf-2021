{
 "cells": [
  {
   "cell_type": "markdown",
   "metadata": {},
   "source": [
    "Filter Image\n",
    "------------\n",
    "\n",
    "Read in the \"dc_metro\" image and use an averaging filter\n",
    "to \"smooth\" the image.  Use a \"5 point stencil\" where\n",
    "you average the current pixel with its neighboring pixels::\n",
    "\n",
    "              0 0 0 0 0 0 0\n",
    "              0 0 0 x 0 0 0\n",
    "              0 0 x x x 0 0\n",
    "              0 0 0 x 0 0 0\n",
    "              0 0 0 0 0 0 0\n",
    "\n",
    "Plot the image, the smoothed image, and the difference between the\n",
    "two.\n",
    "\n"
   ]
  },
  {
   "cell_type": "code",
   "execution_count": null,
   "metadata": {},
   "outputs": [],
   "source": [
    "%matplotlib inline"
   ]
  },
  {
   "cell_type": "code",
   "execution_count": null,
   "metadata": {},
   "outputs": [],
   "source": [
    "import matplotlib.pyplot as plt\n",
    "\n",
    "img = plt.imread('dc_metro.png')\n",
    "\n",
    "plt.imshow(img, cmap=plt.cm.hot)"
   ]
  },
  {
   "cell_type": "markdown",
   "metadata": {},
   "source": [
    "## Bonus\n",
    "\n",
    "Re-filter the image by passing the result image through the filter again. Do this 50 times and plot the resulting image.\n",
    "\n"
   ]
  },
  {
   "cell_type": "code",
   "execution_count": null,
   "metadata": {},
   "outputs": [],
   "source": []
  }
 ],
 "metadata": {
  "kernelspec": {
   "display_name": "Python 3",
   "language": "python",
   "name": "python3"
  },
  "language_info": {
   "codemirror_mode": {
    "name": "ipython",
    "version": 3
   },
   "file_extension": ".py",
   "mimetype": "text/x-python",
   "name": "python",
   "nbconvert_exporter": "python",
   "pygments_lexer": "ipython3",
   "version": "3.6.10"
  }
 },
 "nbformat": 4,
 "nbformat_minor": 2
}
