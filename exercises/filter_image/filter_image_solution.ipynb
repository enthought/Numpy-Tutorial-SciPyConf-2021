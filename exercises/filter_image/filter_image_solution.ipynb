{
 "cells": [
  {
   "cell_type": "markdown",
   "metadata": {},
   "source": [
    "# Filter Image Solution\n",
    "\n",
    "Read in the \"dc_metro\" image and use an averaging filter\n",
    "to \"smooth\" the image.  Use a \"5 point stencil\" where\n",
    "you average the current pixel with its neighboring pixels::\n",
    "\n",
    "              0 0 0 0 0 0 0\n",
    "              0 0 0 x 0 0 0\n",
    "              0 0 x x x 0 0\n",
    "              0 0 0 x 0 0 0\n",
    "              0 0 0 0 0 0 0\n",
    "\n",
    "Plot the image, the smoothed image, and the difference between the\n",
    "two.\n"
   ]
  },
  {
   "cell_type": "code",
   "execution_count": null,
   "metadata": {},
   "outputs": [],
   "source": [
    "%matplotlib inline\n",
    "import numpy as np\n",
    "import matplotlib.pyplot as plt"
   ]
  },
  {
   "cell_type": "markdown",
   "metadata": {},
   "source": [
    "## Plotting utilities (helpful examples)"
   ]
  },
  {
   "cell_type": "code",
   "execution_count": null,
   "metadata": {},
   "outputs": [],
   "source": [
    "# Read an image from a file into an array\n",
    "img = plt.imread('dc_metro.png')"
   ]
  },
  {
   "cell_type": "code",
   "execution_count": null,
   "metadata": {},
   "outputs": [],
   "source": [
    "# Display 2D array as an image (can specify color map as `cmap`)\n",
    "plt.imshow(img, cmap=plt.cm.hot);"
   ]
  },
  {
   "cell_type": "code",
   "execution_count": null,
   "metadata": {},
   "outputs": [],
   "source": [
    "# Use plt.subplot for comparing images\n",
    "plt.figure(figsize=(12, 6))\n",
    "\n",
    "# Plot the original\n",
    "plt.subplot(1,3,1)\n",
    "plt.imshow(img)\n",
    "plt.title('original')\n",
    "\n",
    "# Plot another image\n",
    "plt.subplot(1,3,2)\n",
    "plt.imshow(img, cmap='gray')\n",
    "plt.title('grayscale')\n",
    "\n",
    "# Plot another image\n",
    "plt.subplot(1,3,3)\n",
    "plt.imshow(img, cmap=plt.cm.hot)\n",
    "plt.title('hot');"
   ]
  },
  {
   "cell_type": "markdown",
   "metadata": {},
   "source": [
    "1. Use an averaging filter to \"smooth\" the `'dc_metro.png'` image. Use a \"5 point stencil\" where you average the current pixel with its neighboring pixels::\n",
    "\n",
    "          0 0 0 0 0 0 0\n",
    "          0 0 0 x 0 0 0\n",
    "          0 0 x x x 0 0\n",
    "          0 0 0 x 0 0 0\n",
    "          0 0 0 0 0 0 0\n",
    "Plot the image, the smoothed image, and the difference between the two."
   ]
  },
  {
   "cell_type": "code",
   "execution_count": null,
   "metadata": {},
   "outputs": [],
   "source": [
    "def smooth(img):\n",
    "    avg_img =(    img[1:-1 ,1:-1]  # center\n",
    "                + img[ :-2 ,1:-1]  # top\n",
    "                + img[2:   ,1:-1]  # bottom\n",
    "                + img[1:-1 , :-2]  # left\n",
    "                + img[1:-1 ,2:  ]  # right\n",
    "                ) / 5.0\n",
    "    return avg_img\n",
    "\n",
    "\n",
    "def smooth_loop(img):\n",
    "    smoothed = np.zeros((img.shape[0]-2, img.shape[1]-2))\n",
    "    for r in range(0, img.shape[0]-2):\n",
    "        for c in range(0, img.shape[1]-2):\n",
    "            smoothed[r, c] = (  img[r+1, c+1]  # center\n",
    "                              + img[r  , c+1]  # top\n",
    "                              + img[r+2, c+1]  # bottom\n",
    "                              + img[r+1, c  ]  # left\n",
    "                              + img[r+1, c+2]  # right\n",
    "                             ) / 5.0\n",
    "    return smoothed"
   ]
  },
  {
   "cell_type": "code",
   "execution_count": null,
   "metadata": {},
   "outputs": [],
   "source": [
    "img = plt.imread('dc_metro.png')\n",
    "avg_img = smooth(img)\n",
    "\n",
    "plt.figure(figsize=(12, 6))\n",
    "# Set colormap so that images are plotted in gray scale.\n",
    "plt.gray()\n",
    "# Plot the original image first\n",
    "plt.subplot(1,3,1)\n",
    "plt.imshow(img)\n",
    "plt.title('original')\n",
    "\n",
    "# Now the filtered image.\n",
    "plt.subplot(1,3,2)\n",
    "plt.imshow(avg_img)\n",
    "plt.title('smoothed once')\n",
    "\n",
    "# And finally the difference between the two.\n",
    "plt.subplot(1,3,3)\n",
    "plt.imshow(img[1:-1,1:-1] - avg_img)\n",
    "plt.title('difference')"
   ]
  },
  {
   "cell_type": "markdown",
   "metadata": {},
   "source": [
    "## Bonus\n",
    "\n",
    "Re-filter the image by passing the result image through the filter again. Do\n",
    "this 50 times and plot the resulting image."
   ]
  },
  {
   "cell_type": "code",
   "execution_count": null,
   "metadata": {},
   "outputs": [],
   "source": [
    "for num in range(50):\n",
    "    avg_img = smooth(avg_img)\n",
    "\n",
    "# Plot the original image first\n",
    "plt.figure(figsize=(12, 6))\n",
    "plt.subplot(1,2,1)\n",
    "plt.imshow(img)\n",
    "plt.title('original')\n",
    "\n",
    "# Now the filtered image.\n",
    "plt.subplot(1,2,2)\n",
    "plt.imshow(avg_img)\n",
    "plt.title('smoothed 50 times')\n",
    "\n",
    "assert np.allclose(smooth(img), smooth_loop(img))"
   ]
  }
 ],
 "metadata": {
  "kernelspec": {
   "display_name": "Python 3",
   "language": "python",
   "name": "python3"
  },
  "language_info": {
   "codemirror_mode": {
    "name": "ipython",
    "version": 3
   },
   "file_extension": ".py",
   "mimetype": "text/x-python",
   "name": "python",
   "nbconvert_exporter": "python",
   "pygments_lexer": "ipython3",
   "version": "3.6.13"
  }
 },
 "nbformat": 4,
 "nbformat_minor": 2
}
