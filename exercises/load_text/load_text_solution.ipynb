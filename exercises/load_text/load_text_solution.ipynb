{
 "cells": [
  {
   "cell_type": "markdown",
   "metadata": {},
   "source": [
    "# Load Array from Text File Solution\n",
    "\n",
    "0. In a clean notebook cell, type:\n",
    "\n",
    "        In [ ]: loadtxt?\n",
    "\n",
    "   to see the options on how to use the `loadtxt` command.\n",
    "\n",
    "\n",
    "1. Use `loadtxt` to load in a 2D array of floating point values from `'float_data.txt'`.\n",
    "   The data in the file looks like:\n",
    "\n",
    "        1 2 3 4\n",
    "        5 6 7 8\n",
    "\n",
    "   The resulting data should be a 2x4 array of floating point values.\n",
    "\n",
    "\n",
    "2. In the second example, the file `'float_data_with_header.txt'` has\n",
    "   strings as column names in the first row:\n",
    "\n",
    "        c1 c2 c3 c4\n",
    "         1  2  3  4\n",
    "         5  6  7  8\n",
    "\n",
    "   Ignore these column names, and read the remainder of the data into\n",
    "   a 2D array.\n",
    "\n",
    "## Bonus\n",
    "\n",
    "\n",
    "3. A third example is more involved. It contains comments in multiple\n",
    "   locations, uses multiple formats, and includes a useless column to\n",
    "   skip:\n",
    "\n",
    "    -- THIS IS THE BEGINNING OF THE FILE --  \n",
    "    % This is a more complex file to read!\n",
    "\n",
    "    % Day,  Month,  Year, Useless Col, Avg Power\n",
    "       01,     01,  2000,      ad766,         30\n",
    "       02,     01,  2000,       t873,         41\n",
    "    % we don't have Jan 03rd!\n",
    "       04,     01,  2000,       r441,         55\n",
    "       05,     01,  2000,       s345,         78\n",
    "       06,     01,  2000,       x273,        134 % that day was crazy\n",
    "       07,     01,  2000,       x355,         42\n",
    "\n",
    "    %-- THIS IS THE END OF THE FILE --\n"
   ]
  },
  {
   "cell_type": "code",
   "execution_count": null,
   "metadata": {},
   "outputs": [],
   "source": [
    "from numpy import loadtxt"
   ]
  },
  {
   "cell_type": "markdown",
   "metadata": {},
   "source": [
    "0. Use the command `loadtxt?` below to see the options on how to use the `loadtxt` command."
   ]
  },
  {
   "cell_type": "code",
   "execution_count": null,
   "metadata": {},
   "outputs": [],
   "source": [
    "loadtxt?"
   ]
  },
  {
   "cell_type": "markdown",
   "metadata": {},
   "source": [
    "1. Use `loadtxt` to load in a 2D array of floating point values from `'float_data.txt'`.\n",
    "   The data in the file looks like:\n",
    "\n",
    "        1 2 3 4\n",
    "        5 6 7 8\n",
    "\n",
    "   The resulting data should be a 2x4 array of floating point values."
   ]
  },
  {
   "cell_type": "code",
   "execution_count": null,
   "metadata": {},
   "outputs": [],
   "source": [
    "# Simple example loading a 2x4 array of floats from a file\n",
    "ary1 = loadtxt('float_data.txt')\n",
    "\n",
    "print('example 1:')\n",
    "print(ary1)"
   ]
  },
  {
   "cell_type": "markdown",
   "metadata": {},
   "source": [
    "2. In the second example, the file `'float_data_with_header.txt'` has\n",
    "   strings as column names in the first row:\n",
    "\n",
    "        c1 c2 c3 c4\n",
    "         1  2  3  4\n",
    "         5  6  7  8\n",
    "\n",
    "   Ignore these column names, and read the remainder of the data into\n",
    "   a 2D array."
   ]
  },
  {
   "cell_type": "code",
   "execution_count": null,
   "metadata": {},
   "outputs": [],
   "source": [
    "# Same example, but skipping the first row of column headers\n",
    "ary2 = loadtxt('float_data_with_header.txt', skiprows=1)\n",
    "\n",
    "print('example 2:')\n",
    "print(ary2)"
   ]
  },
  {
   "cell_type": "markdown",
   "metadata": {},
   "source": [
    "## Bonus\n",
    "\n",
    "\n",
    "3. A third example is more involved. It contains comments in multiple\n",
    "   locations, uses multiple formats, and includes a useless column to\n",
    "   skip:\n",
    "\n",
    "    -- THIS IS THE BEGINNING OF THE FILE --  \n",
    "    % This is a more complex file to read!\n",
    "\n",
    "    % Day,  Month,  Year, Useless Col, Avg Power\n",
    "       01,     01,  2000,      ad766,         30\n",
    "       02,     01,  2000,       t873,         41\n",
    "    % we don't have Jan 03rd!\n",
    "       04,     01,  2000,       r441,         55\n",
    "       05,     01,  2000,       s345,         78\n",
    "       06,     01,  2000,       x273,        134 % that day was crazy\n",
    "       07,     01,  2000,       x355,         42\n",
    "\n",
    "    %-- THIS IS THE END OF THE FILE --"
   ]
  },
  {
   "cell_type": "code",
   "execution_count": null,
   "metadata": {},
   "outputs": [],
   "source": [
    "# More complex example with comments and columns to skip\n",
    "ary3 = loadtxt('complex_data_file.txt', delimiter=',', comments='%',\n",
    "               usecols=(0,1,2,4), dtype=int, skiprows=1)\n",
    "\n",
    "print('example 3:')\n",
    "print(ary3)"
   ]
  }
 ],
 "metadata": {
  "kernelspec": {
   "display_name": "Python 3",
   "language": "python",
   "name": "python3"
  },
  "language_info": {
   "codemirror_mode": {
    "name": "ipython",
    "version": 3
   },
   "file_extension": ".py",
   "mimetype": "text/x-python",
   "name": "python",
   "nbconvert_exporter": "python",
   "pygments_lexer": "ipython3",
   "version": "3.6.13"
  }
 },
 "nbformat": 4,
 "nbformat_minor": 4
}
