{
 "cells": [
  {
   "cell_type": "markdown",
   "metadata": {},
   "source": [
    "# Since Function\n",
    "Topics: Broadcasting, Fancy Indexing\n",
    "\n",
    "The [sinc function](https://en.wikipedia.org/wiki/Sinc_function) is defined by: \n",
    "\n",
    "$$ \\large sinc(r) = \\frac{sin(r)}{r} $$\n",
    "\n",
    "\n",
    "1. Create a Cartesian x,y grid by defining `x` and `y` as arrays of evenly spaced numbers over the interval `[-15, 15]`. Each of these arrays should have `101` numbers.\n",
    "\n",
    "2. Reshape the `y` array into a \"column\" vector by increasing the dimensionality using array slicing and `newaxis`.\n",
    "\n",
    "3. Create an array of `r` that corresponds to the following equation:\n",
    "\n",
    "$$ \\large r = \\sqrt{x^2 + y^2} $$\n",
    "\n",
    "\n",
    "4. Calculate the sinc function of `r`.\n",
    "\n",
    "5. Replace any location in `sinc` where `r` is `0` with `1.0`.\n",
    "\n",
    "\n",
    "## Bonus\n",
    "6. Plot the result of the sinc function using `matplotlib`'s `plt.imshow` function."
   ]
  },
  {
   "cell_type": "code",
   "execution_count": null,
   "metadata": {},
   "outputs": [],
   "source": [
    "%matplotlib inline\n",
    "from numpy import linspace, sin, sqrt, newaxis\n",
    "import matplotlib.pyplot as plt"
   ]
  },
  {
   "cell_type": "markdown",
   "metadata": {},
   "source": [
    "1. Create a Cartesian x,y grid by defining `x` and `y` as arrays of evenly spaced numbers over the interval `[-15, 15]`. Each of these arrays should have `101` numbers."
   ]
  },
  {
   "cell_type": "code",
   "execution_count": null,
   "metadata": {},
   "outputs": [],
   "source": [
    "# Your code goes here"
   ]
  },
  {
   "cell_type": "markdown",
   "metadata": {},
   "source": [
    "2. Reshape the y array into a \"column\" vector by increasing the dimensionality using array slicing and newaxis."
   ]
  },
  {
   "cell_type": "code",
   "execution_count": null,
   "metadata": {},
   "outputs": [],
   "source": [
    "y = # Your code goes here"
   ]
  },
  {
   "cell_type": "markdown",
   "metadata": {},
   "source": [
    "3. Create an array of `r` that corresponds to the following equation:\n",
    "\n",
    "$$ \\large r = \\sqrt{x^2 + y^2} $$"
   ]
  },
  {
   "cell_type": "code",
   "execution_count": null,
   "metadata": {},
   "outputs": [],
   "source": [
    "# Your code goes here"
   ]
  },
  {
   "cell_type": "markdown",
   "metadata": {},
   "source": [
    "4. Calculate the sinc function of `r`"
   ]
  },
  {
   "cell_type": "code",
   "execution_count": null,
   "metadata": {},
   "outputs": [],
   "source": [
    "sinc = # Your code goes here"
   ]
  },
  {
   "cell_type": "markdown",
   "metadata": {},
   "source": [
    "5. Replace any location in `sinc` where `r` is `0` with `1.0`."
   ]
  },
  {
   "cell_type": "code",
   "execution_count": null,
   "metadata": {},
   "outputs": [],
   "source": [
    "# Your code goes here"
   ]
  },
  {
   "cell_type": "markdown",
   "metadata": {},
   "source": [
    "## Bonus\n",
    "6. Plot the result of the sinc function using `matplotlib`'s `plt.imshow` function."
   ]
  },
  {
   "cell_type": "code",
   "execution_count": null,
   "metadata": {},
   "outputs": [],
   "source": [
    "# Your code goes here"
   ]
  }
 ],
 "metadata": {
  "kernelspec": {
   "display_name": "Python 3",
   "language": "python",
   "name": "python3"
  },
  "language_info": {
   "codemirror_mode": {
    "name": "ipython",
    "version": 3
   },
   "file_extension": ".py",
   "mimetype": "text/x-python",
   "name": "python",
   "nbconvert_exporter": "python",
   "pygments_lexer": "ipython3",
   "version": "3.6.13"
  }
 },
 "nbformat": 4,
 "nbformat_minor": 4
}
