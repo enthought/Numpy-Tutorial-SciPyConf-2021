{
 "cells": [
  {
   "cell_type": "markdown",
   "metadata": {},
   "source": [
    "# Calc Return Solution\n",
    "\n",
    "For a given stock, the return `ret(t)` is connected to its close price `p(t)` by\n",
    "\n",
    "         \n",
    "$\\large ret(t) = \\frac{p(t) - p(t-1)}{p(t-1)} $\n",
    "\n",
    "\n",
    "The close price for Apple stock for all business days in 2008 is loaded for you\n",
    "from the data file `aapl_2008_close_values.csv`.\n",
    "\n",
    "1. Use these values to compute the corresponding daily return for every business day of that year (except the first one).\n",
    "\n",
    "2. Plot these returns, converted to percentages, over the course of the year. On the same plot, draw a red line at 0.\n",
    "\n",
    "**Note**: a for loop is neither necessary nor recommended for this calculation\n",
    "\n",
    "## Bonus\n",
    "\n",
    "3. There is some blank space in the plot made in question 2 because by default, matplotlib displays plots with a range along the x axis that is larger than the highest x coordinate. Use IPython to learn about matplotlib's `plt.xlim` function and make the limits of your plot tighter."
   ]
  },
  {
   "cell_type": "code",
   "execution_count": null,
   "metadata": {},
   "outputs": [],
   "source": [
    "%matplotlib inline\n",
    "from numpy import arange, loadtxt, zeros, diff\n",
    "import matplotlib.pyplot as plt"
   ]
  },
  {
   "cell_type": "markdown",
   "metadata": {},
   "source": [
    "0. The close price for Apple stock for all business days in 2008 is loaded for you from the data file `aapl_2008_close_values.csv.`"
   ]
  },
  {
   "cell_type": "code",
   "execution_count": null,
   "metadata": {},
   "outputs": [],
   "source": [
    "prices = loadtxt(\"aapl_2008_close_values.csv\", usecols=[1], delimiter=\",\")\n",
    "\n",
    "print(\"Prices for AAPL stock in 2008:\")\n",
    "print(prices)"
   ]
  },
  {
   "cell_type": "markdown",
   "metadata": {},
   "source": [
    "1. Use these values (`prices`) to compute the corresponding daily return for every business day of that year (except the first one)."
   ]
  },
  {
   "cell_type": "code",
   "execution_count": null,
   "metadata": {},
   "outputs": [],
   "source": [
    "# 1a. Compute the daily returns\n",
    "diffs = prices[1:] - prices[:-1]\n",
    "returns = diffs / prices[:-1]"
   ]
  },
  {
   "cell_type": "code",
   "execution_count": null,
   "metadata": {},
   "outputs": [],
   "source": [
    "# 1b. Compute the daily returns\n",
    "# import numpy as np\n",
    "# returns = np.diff(prices) / prices[:-1]"
   ]
  },
  {
   "cell_type": "markdown",
   "metadata": {},
   "source": [
    "2. Plot these returns, converted to percentages, over the course of the year. On the same plot, draw a red line at 0.\n",
    "  - The matplotlib code for plotting has been provided for you."
   ]
  },
  {
   "cell_type": "code",
   "execution_count": null,
   "metadata": {},
   "outputs": [],
   "source": [
    "# Create an array of zeros that corresponds to the length of daily returns\n",
    "days = arange(len(returns))\n",
    "zero_line = zeros(len(returns))"
   ]
  },
  {
   "cell_type": "code",
   "execution_count": null,
   "metadata": {},
   "outputs": [],
   "source": [
    "# Plot the zero line acrros days\n",
    "plt.plot(days, zero_line, 'r-')\n",
    "\n",
    "# Plot the daily returns as a percentage\n",
    "plt.plot(days, returns * 100, 'b-')\n",
    "\n",
    "# Specify a plot title\n",
    "plt.title('Daily return of AAPL stock in 2008 (%)');"
   ]
  },
  {
   "cell_type": "markdown",
   "metadata": {},
   "source": [
    "## Bonus\n",
    "3. There is some blank space in the plot made in question 2 because by default, `matplotlib` displays plots with a range along the x axis that is larger than the highest x coordinate. Use IPython to learn about `matplotlib`'s `plt.xlim` function and make the limits of your plot tighter."
   ]
  },
  {
   "cell_type": "code",
   "execution_count": null,
   "metadata": {},
   "outputs": [],
   "source": [
    "# Plot the daily returns with xlim\n",
    "plt.plot(days, zero_line, 'r-', days, returns * 100 , 'b-')\n",
    "plt.title('Daily return of AAPL stock in 2008 (%)');\n",
    "plt.xlim(xmax=len(returns));"
   ]
  }
 ],
 "metadata": {
  "kernelspec": {
   "display_name": "Python 3",
   "language": "python",
   "name": "python3"
  },
  "language_info": {
   "codemirror_mode": {
    "name": "ipython",
    "version": 3
   },
   "file_extension": ".py",
   "mimetype": "text/x-python",
   "name": "python",
   "nbconvert_exporter": "python",
   "pygments_lexer": "ipython3",
   "version": "3.6.13"
  }
 },
 "nbformat": 4,
 "nbformat_minor": 4
}
